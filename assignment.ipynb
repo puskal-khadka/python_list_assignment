{
 "cells": [
  {
   "cell_type": "code",
   "execution_count": 25,
   "metadata": {},
   "outputs": [
    {
     "data": {
      "text/plain": [
       "False"
      ]
     },
     "execution_count": 25,
     "metadata": {},
     "output_type": "execute_result"
    }
   ],
   "source": [
    "# Q1:soln\n",
    "list=[2,4,5,6,7]\n",
    "def is_sorted(list):\n",
    "    flag=0\n",
    "    for i in range(len(list)-1):\n",
    "        if(list[i]<=list[i+1]):\n",
    "            flag=1\n",
    "            continue\n",
    "        else:\n",
    "            flag=0\n",
    "            break\n",
    "    if(flag==1):\n",
    "        return True\n",
    "    else:\n",
    "        return False\n",
    "    \n",
    "\n",
    "is_sorted(list)\n",
    "  "
   ]
  },
  {
   "cell_type": "code",
   "execution_count": 13,
   "metadata": {},
   "outputs": [
    {
     "name": "stdout",
     "output_type": "stream",
     "text": [
      "enter first string 4rff\n",
      "enter second string fhdfd\n"
     ]
    },
    {
     "data": {
      "text/plain": [
       "False"
      ]
     },
     "execution_count": 13,
     "metadata": {},
     "output_type": "execute_result"
    }
   ],
   "source": [
    "#Q2\n",
    "str1=input(\"enter first string \")\n",
    "str2=input(\"enter second string \")\n",
    "def is_anagram(str1,str2):\n",
    "    f=0\n",
    "    str1=sorted(str1)\n",
    "    str2=sorted(str2)\n",
    "    if(len(str1)!=len(str2)):\n",
    "        return False\n",
    "    else:\n",
    "        for i in range(len(str1)):\n",
    "            if(str1[i]==str2[i]):\n",
    "                f=1\n",
    "                continue\n",
    "            else:\n",
    "                return False\n",
    "        if(f==1):\n",
    "            return True\n",
    "    \n",
    "is_anagram(str1,str2)\n",
    "    "
   ]
  },
  {
   "cell_type": "code",
   "execution_count": 8,
   "metadata": {},
   "outputs": [
    {
     "name": "stdout",
     "output_type": "stream",
     "text": [
      "[3, 2, 7, 8, 9]\n"
     ]
    }
   ],
   "source": [
    "#Q3\n",
    "list=[3,2,2,3,7,8,8,9,7]\n",
    "def remove_duplicate(list):\n",
    "    global newlist\n",
    "    newlist=[]\n",
    "    for i in range(len(list)):\n",
    "        if (list[i] in newlist):\n",
    "            continue\n",
    "        else:\n",
    "            newlist.append(list[i])\n",
    "remove_duplicate(list)\n",
    "print(newlist)\n",
    "        "
   ]
  },
  {
   "cell_type": "code",
   "execution_count": 27,
   "metadata": {},
   "outputs": [
    {
     "name": "stdout",
     "output_type": "stream",
     "text": [
      "Enter any number7\n",
      "prime number\n"
     ]
    }
   ],
   "source": [
    "#Q4\n",
    "n=int(input(\"Enter any number\"))\n",
    "flag=0\n",
    "if(n==1):\n",
    "    print(\"not prime\")\n",
    "else:\n",
    "    for i in range(2,n):\n",
    "        if n%i==0:\n",
    "            flag=1\n",
    "            break\n",
    "        else:\n",
    "            flag=0\n",
    "            continue\n",
    "    \n",
    "    if(flag==0):\n",
    "        print(\"prime number\")\n",
    "    else:\n",
    "        print(\"not prime\")\n",
    "\n",
    "    \n"
   ]
  },
  {
   "cell_type": "code",
   "execution_count": 30,
   "metadata": {},
   "outputs": [
    {
     "name": "stdout",
     "output_type": "stream",
     "text": [
      "enter string r\n",
      "not pallindrome\n"
     ]
    }
   ],
   "source": [
    "#Q5\n",
    "string=input(\"enter string \")\n",
    "a=len(string)\n",
    "flag=0\n",
    "j=a-1\n",
    "for i in range(int(a/2)):\n",
    "    if(string[i]==string[j]):\n",
    "        flag=1\n",
    "        j-=1\n",
    "        continue\n",
    "    else:\n",
    "        flag=0\n",
    "        break\n",
    "if(flag==1):\n",
    "    print(\"pallindrome\")\n",
    "else:\n",
    "    print(\"not pallindrome\")\n"
   ]
  },
  {
   "cell_type": "code",
   "execution_count": 36,
   "metadata": {},
   "outputs": [
    {
     "name": "stdout",
     "output_type": "stream",
     "text": [
      "enter first number2\n",
      "enter second number6\n",
      "[9, 16, 25]\n"
     ]
    }
   ],
   "source": [
    "# Q6\n",
    "a=int(input(\"enter first number\"))\n",
    "b=int(input(\"enter second number\"))\n",
    "list=[]\n",
    "for i in range(a+1,b):\n",
    "    i=i**2\n",
    "    list.append(i)\n",
    "print(list)"
   ]
  },
  {
   "cell_type": "code",
   "execution_count": 38,
   "metadata": {},
   "outputs": [
    {
     "name": "stdout",
     "output_type": "stream",
     "text": [
      "enter first number 4\n",
      "enter second number 2\n",
      "divisible\n"
     ]
    }
   ],
   "source": [
    "#Q7\n",
    "a=int(input(\"enter first number \"))\n",
    "b=int(input(\"enter second number \"))\n",
    "if a%b==0:\n",
    "    print(\"divisible\")\n",
    "else:\n",
    "    print(\"not divisible\")"
   ]
  },
  {
   "cell_type": "code",
   "execution_count": 39,
   "metadata": {},
   "outputs": [
    {
     "name": "stdout",
     "output_type": "stream",
     "text": [
      "enterram\n",
      "string input\n"
     ]
    }
   ],
   "source": [
    "#Q8\n",
    "inp=input(\"enter\")\n",
    "if inp.isdigit():\n",
    "    print(\"numeric input\")\n",
    "elif inp.isalpha():\n",
    "    print(\"string input\")\n",
    "else:\n",
    "    print(\"neither pure integer nor string input\")"
   ]
  },
  {
   "cell_type": "code",
   "execution_count": 40,
   "metadata": {},
   "outputs": [
    {
     "name": "stdout",
     "output_type": "stream",
     "text": [
      "enter number from above list whose occurance you want to find5\n",
      "5 occur for  1 times  in indices  [10]\n"
     ]
    }
   ],
   "source": [
    "#Q9\n",
    "list=[2,3,4,2,6,4,2,2,2,4,5,6]\n",
    "n=int(input(\"enter number from above list whose occurance you want to find\"))\n",
    "count=0\n",
    "index=[]\n",
    "for i in range(len(list)):\n",
    "    if(list[i]==n):\n",
    "        count+=1\n",
    "        index.append(i)\n",
    "    else:\n",
    "        continue\n",
    "print(n,\"occur for \",count ,\"times\",\" in indices \",index)\n"
   ]
  },
  {
   "cell_type": "code",
   "execution_count": null,
   "metadata": {},
   "outputs": [],
   "source": []
  }
 ],
 "metadata": {
  "kernelspec": {
   "display_name": "Python 3",
   "language": "python",
   "name": "python3"
  },
  "language_info": {
   "codemirror_mode": {
    "name": "ipython",
    "version": 3
   },
   "file_extension": ".py",
   "mimetype": "text/x-python",
   "name": "python",
   "nbconvert_exporter": "python",
   "pygments_lexer": "ipython3",
   "version": "3.7.4"
  }
 },
 "nbformat": 4,
 "nbformat_minor": 2
}
